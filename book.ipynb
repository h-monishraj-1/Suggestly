{
 "cells": [
  {
   "cell_type": "code",
   "execution_count": 6,
   "id": "152f43c8-81d4-42f5-8aaf-4167ca65d3ce",
   "metadata": {
    "scrolled": true
   },
   "outputs": [
    {
     "name": "stdout",
     "output_type": "stream",
     "text": [
      "Books similar to 'pleading guilty':\n",
      "the carousel\n",
      "maneater\n",
      "guilty\n",
      "everything and a kite\n",
      "the corrections\n"
     ]
    }
   ],
   "source": [
    "import pandas as pd\n",
    "from sklearn.feature_extraction.text import CountVectorizer\n",
    "from sklearn.neighbors import NearestNeighbors\n",
    "\n",
    "# Load the data and preprocess\n",
    "books_df = pd.read_csv(\"Books.csv\", dtype={'Year-Of-Publication': 'str'}, low_memory=False)\n",
    "books_df.dropna(inplace=True)\n",
    "\n",
    "books_df['Book-Author'] = books_df['Book-Author'].str.replace(' ', '').str.lower()\n",
    "books_df['Publisher'] = books_df['Publisher'].str.replace(' ', '').str.lower()\n",
    "books_df['Book-Title'] = books_df['Book-Title'].str.lower()\n",
    "\n",
    "books_df['tags'] = books_df['Book-Author'] + ' ' + books_df['Publisher'] + ' ' + books_df['Book-Title']\n",
    "new_df = books_df[['Book-Title', 'tags']].copy()\n",
    "new_df.loc[:, 'tags'] = new_df['tags'].apply(lambda x: x.lower())\n",
    "\n",
    "# Vectorize tags\n",
    "cv = CountVectorizer(max_features=5000, stop_words='english')  # Limit max features for efficiency\n",
    "vectors = cv.fit_transform(new_df['tags'])  # Keep it sparse\n",
    "\n",
    "# Use Nearest Neighbors\n",
    "nn = NearestNeighbors(metric='cosine', algorithm='brute', n_neighbors=6)  # Find 5 similar books + the book itself\n",
    "nn.fit(vectors)\n",
    "\n",
    "# Recommendation function\n",
    "def recommend(book_title):\n",
    "    book_title = book_title.lower()\n",
    "    if book_title not in new_df['Book-Title'].values:\n",
    "        print(f\"'{book_title}' not found in the dataset. Please try another title.\")\n",
    "        return\n",
    "    \n",
    "    book_index = new_df[new_df['Book-Title'] == book_title].index[0]\n",
    "    distances, indices = nn.kneighbors(vectors[book_index])\n",
    "    \n",
    "    print(f\"Books similar to '{book_title}':\")\n",
    "    for i in indices[0][1:]:  # Skip the first result (it’s the same book)\n",
    "        print(new_df.iloc[i]['Book-Title'])\n",
    "\n",
    "recommend('PLEADING GUILTY')\n"
   ]
  },
  {
   "cell_type": "code",
   "execution_count": 4,
   "id": "8ce5613c-0104-4ecf-bce8-56643a175e9e",
   "metadata": {},
   "outputs": [
    {
     "name": "stdout",
     "output_type": "stream",
     "text": [
      "Recommendations for: A Wizard of Earthsea\n",
      "['American Gods', 'The Shadow', 'The Wreck of the Zephyr', 'Babylon 5: The Passing of the Techno-Mages - Invoking Darkness', 'Apocalypse']\n"
     ]
    },
    {
     "name": "stderr",
     "output_type": "stream",
     "text": [
      "C:\\Users\\riyab\\AppData\\Roaming\\Python\\Python311\\site-packages\\sklearn\\utils\\extmath.py:192: RuntimeWarning: invalid value encountered in matmul\n",
      "  ret = a @ b\n"
     ]
    }
   ],
   "source": [
    "import pandas as pd\n",
    "import numpy as np\n",
    "from sklearn.feature_extraction.text import CountVectorizer\n",
    "from sklearn.metrics.pairwise import cosine_similarity\n",
    "\n",
    "class BookRecommender:\n",
    "    def __init__(self):\n",
    "        # Load and clean the dataset\n",
    "        self.df = pd.read_csv('booksumm.csv')\n",
    "        self.df.dropna(subset=['Book-title', 'Author', 'Plot-summary'], inplace=True)\n",
    "        \n",
    "        # Process genres (remove nested structure if present)\n",
    "        self.df['Book genres'] = self.df['Book genres'].str.replace('[{}\"/]', '', regex=True)\n",
    "        \n",
    "        # Create tags column\n",
    "        self.df['tags'] = (self.df['Author'] + ' ' +\n",
    "                           self.df['Book genres'].fillna('') + ' ' +\n",
    "                           self.df['Plot-summary']).str.lower()\n",
    "        \n",
    "        # Prepare data for recommendations\n",
    "        self.new_df = self.df[['Book-title', 'tags']].rename(columns={'Book-title': 'title'})\n",
    "        self.cv = CountVectorizer(max_features=2000, stop_words='english')\n",
    "        self.vectors = self.cv.fit_transform(self.new_df['tags']).toarray()\n",
    "        self.similarity = cosine_similarity(self.vectors)\n",
    "\n",
    "    def recommend(self, book_title):\n",
    "        try:\n",
    "            # Find index of the given book\n",
    "            book_index = self.new_df[self.new_df['title'].str.lower() == book_title.lower()].index[0]\n",
    "            distances = self.similarity[book_index]\n",
    "\n",
    "            # Get top 5 recommendations\n",
    "            book_list = sorted(list(enumerate(distances)), reverse=True, key=lambda x: x[1])[1:6]\n",
    "            return [self.new_df.iloc[i[0]].title for i in book_list]\n",
    "        except IndexError:\n",
    "            return [\"Book not found. Please try another.\"]\n",
    "\n",
    "# Usage\n",
    "recommender = BookRecommender()\n",
    "\n",
    "# Test the recommendation system\n",
    "book_title = \"A Wizard of Earthsea\"\n",
    "recommendations = recommender.recommend(book_title)\n",
    "print(\"Recommendations for:\", book_title)\n",
    "print(recommendations)\n"
   ]
  },
  {
   "cell_type": "code",
   "execution_count": 6,
   "id": "95e75d2d-354c-4396-a4b4-f4740786b7cc",
   "metadata": {},
   "outputs": [
    {
     "name": "stdout",
     "output_type": "stream",
     "text": [
      "Recommendations for: A Wizard of Earthsea\n",
      "['The Shadow', 'American Gods', 'Double Dexter', 'Babylon 5: The Passing of the Techno-Mages - Invoking Darkness', 'The Guns of Avalon']\n"
     ]
    },
    {
     "name": "stderr",
     "output_type": "stream",
     "text": [
      "C:\\Users\\riyab\\AppData\\Roaming\\Python\\Python311\\site-packages\\sklearn\\utils\\extmath.py:192: RuntimeWarning: invalid value encountered in matmul\n",
      "  ret = a @ b\n"
     ]
    }
   ],
   "source": [
    "import pandas as pd\n",
    "import numpy as np\n",
    "from sklearn.feature_extraction.text import TfidfVectorizer\n",
    "from sklearn.metrics.pairwise import cosine_similarity\n",
    "\n",
    "class BookRecommender:\n",
    "    def __init__(self):\n",
    "        # Load and clean the dataset\n",
    "        self.df = pd.read_csv('booksumm.csv')\n",
    "        self.df.dropna(subset=['Book-title', 'Author', 'Plot-summary'], inplace=True)\n",
    "        \n",
    "        # Process genres (remove nested structure if present)\n",
    "        self.df['Book genres'] = self.df['Book genres'].str.replace('[{}\"/]', '', regex=True)\n",
    "        \n",
    "        # Create weighted tags column\n",
    "        self.df['tags'] = (\n",
    "            (self.df['Author'] + ' ') * 1 +  # Lower weight for Author\n",
    "            (self.df['Book genres'].fillna('') + ' ') * 2 +  # Medium weight for genres\n",
    "            (self.df['Plot-summary'] + ' ') * 3  # Higher weight for summary\n",
    "        ).str.lower()\n",
    "        \n",
    "        # Prepare data for recommendations using TF-IDF\n",
    "        self.new_df = self.df[['Book-title', 'tags']].rename(columns={'Book-title': 'title'})\n",
    "        self.tfidf = TfidfVectorizer(max_features=2000, stop_words='english')\n",
    "        self.vectors = self.tfidf.fit_transform(self.new_df['tags']).toarray()\n",
    "        self.similarity = cosine_similarity(self.vectors)\n",
    "\n",
    "    def recommend(self, book_title):\n",
    "        try:\n",
    "            # Find index of the given book\n",
    "            book_index = self.new_df[self.new_df['title'].str.lower() == book_title.lower()].index[0]\n",
    "            distances = self.similarity[book_index]\n",
    "\n",
    "            # Get top 5 recommendations\n",
    "            book_list = sorted(list(enumerate(distances)), reverse=True, key=lambda x: x[1])[1:6]\n",
    "            return [self.new_df.iloc[i[0]].title for i in book_list]\n",
    "        except IndexError:\n",
    "            return [\"Book not found. Please try another.\"]\n",
    "\n",
    "# Usage\n",
    "recommender = BookRecommender()\n",
    "\n",
    "# Test the recommendation system\n",
    "book_title = \"A Wizard of Earthsea\"\n",
    "recommendations = recommender.recommend(book_title)\n",
    "print(\"Recommendations for:\", book_title)\n",
    "print(recommendations)"
   ]
  },
  {
   "cell_type": "code",
   "execution_count": null,
   "id": "2a5c2e97-d529-4f0e-b12b-3d5e58ab8d0d",
   "metadata": {},
   "outputs": [],
   "source": []
  }
 ],
 "metadata": {
  "kernelspec": {
   "display_name": "Python 3 (ipykernel)",
   "language": "python",
   "name": "python3"
  },
  "language_info": {
   "codemirror_mode": {
    "name": "ipython",
    "version": 3
   },
   "file_extension": ".py",
   "mimetype": "text/x-python",
   "name": "python",
   "nbconvert_exporter": "python",
   "pygments_lexer": "ipython3",
   "version": "3.11.0"
  }
 },
 "nbformat": 4,
 "nbformat_minor": 5
}
